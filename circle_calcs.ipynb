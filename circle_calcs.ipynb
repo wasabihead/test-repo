{
  "nbformat": 4,
  "nbformat_minor": 0,
  "metadata": {
    "colab": {
      "name": "circle_calcs",
      "provenance": [],
      "authorship_tag": "ABX9TyOO8CyM/Y/XiRz6b12/a+qy",
      "include_colab_link": true
    },
    "kernelspec": {
      "name": "python3",
      "display_name": "Python 3"
    }
  },
  "cells": [
    {
      "cell_type": "markdown",
      "metadata": {
        "id": "view-in-github",
        "colab_type": "text"
      },
      "source": [
        "<a href=\"https://colab.research.google.com/github/wasabihead/test-repo/blob/master/circle_calcs.ipynb\" target=\"_parent\"><img src=\"https://colab.research.google.com/assets/colab-badge.svg\" alt=\"Open In Colab\"/></a>"
      ]
    },
    {
      "cell_type": "code",
      "metadata": {
        "id": "4EItdxfrlKgw",
        "colab_type": "code",
        "colab": {
          "base_uri": "https://localhost:8080/",
          "height": 68
        },
        "outputId": "39ba1874-1902-4e95-aaed-298d0ff88fa6"
      },
      "source": [
        "'''\n",
        "Author: Emily Williams\n",
        "Created: August 28, 2020\n",
        "Note: This code calculates the area and perimeter of a circle. \n",
        "'''\n",
        "#This section creates variables\n",
        "pi = 3.14\n",
        "r = 2.0\n",
        "\n",
        "#This line calculates area\n",
        "area = pi*(r**2)\n",
        "\n",
        "#This line calculates perimeter\n",
        "perim = 2.0*pi*r\n",
        "\n",
        "#These lines output the results\n",
        "print(\"Given r:\", r)\n",
        "print(\"Area is:\", area)\n",
        "print(\"Perimeter is:\", perim)"
      ],
      "execution_count": null,
      "outputs": [
        {
          "output_type": "stream",
          "text": [
            "Given r: 2.0\n",
            "Area is: 12.56\n",
            "Perimeter is: 12.56\n"
          ],
          "name": "stdout"
        }
      ]
    },
    {
      "cell_type": "code",
      "metadata": {
        "id": "ZXkym3KzeNFX",
        "colab_type": "code",
        "colab": {
          "base_uri": "https://localhost:8080/",
          "height": 68
        },
        "outputId": "99b19880-4416-467c-8b95-e83f6ccc1238"
      },
      "source": [
        "#This code cell was created before the final version above and lacks comments.\n",
        "\n",
        "pi = 3.14\n",
        "r = 2.0\n",
        "area = pi*(r**2)\n",
        "perim = 2.0*pi*r\n",
        "print(\"Given radius:\", r)\n",
        "print(\"Area is:\", area)\n",
        "print(\"Perimeter is:\", perim)"
      ],
      "execution_count": null,
      "outputs": [
        {
          "output_type": "stream",
          "text": [
            "Given radius: 2.0\n",
            "Area is: 12.56\n",
            "Perimeter is: 12.56\n"
          ],
          "name": "stdout"
        }
      ]
    }
  ]
}